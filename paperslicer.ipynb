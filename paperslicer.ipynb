{
 "cells": [
  {
   "cell_type": "code",
   "execution_count": 1,
   "metadata": {},
   "outputs": [
    {
     "ename": "SyntaxError",
     "evalue": "(unicode error) 'unicodeescape' codec can't decode bytes in position 2-3: truncated \\UXXXXXXXX escape (3140871044.py, line 7)",
     "output_type": "error",
     "traceback": [
      "\u001b[1;36m  Cell \u001b[1;32mIn[1], line 7\u001b[1;36m\u001b[0m\n\u001b[1;33m    output_folder = \"C:\\Users\\Jigsaw\\Desktop\\Paper slicer\\Results\"\u001b[0m\n\u001b[1;37m                                                                  ^\u001b[0m\n\u001b[1;31mSyntaxError\u001b[0m\u001b[1;31m:\u001b[0m (unicode error) 'unicodeescape' codec can't decode bytes in position 2-3: truncated \\UXXXXXXXX escape\n"
     ]
    }
   ],
   "source": [
    "from PIL import Image\n",
    "import os\n",
    "\n",
    "def slice_a4_image(image_path, output_folder, square_size_pixels):\n",
    "    image_path = \"A4.png\"\n",
    "    output_folder = \"C:\\Users\\Jigsaw\\Desktop\\Paper slicer\\Results\"\n",
    "    square_size_pixels = 177\n",
    "    img = Image.open(image_path)\n",
    "\n",
    "    width, height = img.size\n",
    "\n",
    "    #Create output folder if it doesn't exist\n",
    "    if not os.path.exists(output_folder):\n",
    "        os.mkdir(output_folder)\n",
    "\n",
    "    #Slice the image and save each square\n",
    "    id = 1\n",
    "    for y in range(0, height, square_size_pixels):\n",
    "        for x in range(0, width, square_size_pixels):\n",
    "            box = (x, y, x + square_size_pixels, y + square_size_pixels)\n",
    "            \n",
    "            cropped_img = img.crop(box)\n",
    "            cropped_img.save(os.path.join(output_folder, f\"square_{id}.png\"))\n",
    "            id += 1\n",
    "\n",
    "if __name__ == \"__main__\":\n",
    "    #2480x3508 pixels (common resolution for 300 DPI)\n",
    "    #30x30 mm squares. At 300 DPI, 30 mm is 354 pixels.\n",
    "    slice_a4_image(\"path_to_a4_image.png\", \"output_folder\", 354)\n"
   ]
  }
 ],
 "metadata": {
  "kernelspec": {
   "display_name": "Python 3",
   "language": "python",
   "name": "python3"
  },
  "language_info": {
   "codemirror_mode": {
    "name": "ipython",
    "version": 3
   },
   "file_extension": ".py",
   "mimetype": "text/x-python",
   "name": "python",
   "nbconvert_exporter": "python",
   "pygments_lexer": "ipython3",
   "version": "3.11.6"
  },
  "orig_nbformat": 4
 },
 "nbformat": 4,
 "nbformat_minor": 2
}
